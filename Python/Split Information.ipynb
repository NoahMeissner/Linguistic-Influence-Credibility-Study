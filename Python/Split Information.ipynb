{
 "cells": [
  {
   "cell_type": "markdown",
   "metadata": {},
   "source": [
    "# Extract Information"
   ]
  },
  {
   "cell_type": "code",
   "execution_count": 1,
   "metadata": {},
   "outputs": [],
   "source": [
    "import pandas as pd\n",
    "import json\n",
    "import os\n",
    "from sqlalchemy import create_engine, text"
   ]
  },
  {
   "cell_type": "code",
   "execution_count": 2,
   "metadata": {},
   "outputs": [
    {
     "name": "stdout",
     "output_type": "stream",
     "text": [
      "Connected!\n"
     ]
    }
   ],
   "source": [
    "db_string = \"\"\n",
    "db = create_engine(db_string)\n",
    "connection = db.connect()\n",
    "print(\"Connected!\")\n",
    "query = \"SELECT * FROM outcome\"\n",
    "df = pd.read_sql_query(query, db)\n",
    "connection.close()\n",
    "db.dispose()"
   ]
  },
  {
   "cell_type": "code",
   "execution_count": 3,
   "metadata": {},
   "outputs": [],
   "source": [
    "df.to_csv(\"raw.csv\", index= False)"
   ]
  },
  {
   "cell_type": "code",
   "execution_count": 2,
   "metadata": {},
   "outputs": [],
   "source": [
    "raw_data = pd.read_csv(\"raw.csv\")"
   ]
  },
  {
   "cell_type": "markdown",
   "metadata": {},
   "source": [
    "### Personal Information"
   ]
  },
  {
   "cell_type": "code",
   "execution_count": 3,
   "metadata": {},
   "outputs": [],
   "source": [
    "columns_to_extract = ['id', 'age', 'gender', 'levelofeducation', 'occupation', 'topicnumber', 'conditionnumber']\n",
    "PATH = 'Data/personal_data.csv'\n",
    "df_personal = raw_data[columns_to_extract]\n",
    "\n",
    "if os.path.exists(PATH):\n",
    "    old = pd.read_csv(PATH)\n",
    "    new = pd.concat([df_personal, old])\n",
    "    new.to_csv(PATH, index=False)\n",
    "else:\n",
    "    df_personal.to_csv(PATH, index=False)"
   ]
  },
  {
   "cell_type": "markdown",
   "metadata": {},
   "source": [
    "### General"
   ]
  },
  {
   "cell_type": "code",
   "execution_count": 4,
   "metadata": {},
   "outputs": [],
   "source": [
    "result_general = pd.DataFrame()\n",
    "\n",
    "for index, row in raw_data.iterrows():\n",
    "    id = row['id']\n",
    "    general = row['general']\n",
    "\n",
    "    dict = pd.read_json(general, typ='series')\n",
    "    first = dict['first']\n",
    "    second = dict['second']\n",
    "    third = dict['third']\n",
    "    fourth = dict['fourth']\n",
    "\n",
    "    df = pd.DataFrame({'id':[id],first['question']: first['answer'], second['question']: second['answer'], third['question']: third['answer'], fourth['question']: fourth['answer']})\n",
    "\n",
    "    result_general = pd.concat([result_general, df], ignore_index=True)\n",
    "\n",
    "result_general.to_csv('Data/general.csv', index=False)\n"
   ]
  },
  {
   "cell_type": "markdown",
   "metadata": {},
   "source": [
    "### General END"
   ]
  },
  {
   "cell_type": "code",
   "execution_count": 5,
   "metadata": {},
   "outputs": [],
   "source": [
    "result_general_end = pd.DataFrame()\n",
    "\n",
    "for index, row in raw_data.iterrows():\n",
    "    id = row['id']\n",
    "    general = row['general_end']\n",
    "\n",
    "    dict = pd.read_json(general, typ='series')\n",
    "    first = dict['first']\n",
    "\n",
    "    df = pd.DataFrame({'id':[id],first['question']: first['answer']})\n",
    "\n",
    "    result_general_end = pd.concat([result_general_end, df], ignore_index=True)\n",
    "\n",
    "result_general_end.to_csv('Data/general_end.csv', index=False)"
   ]
  },
  {
   "cell_type": "markdown",
   "metadata": {},
   "source": [
    "### Timestamps\n"
   ]
  },
  {
   "cell_type": "code",
   "execution_count": 6,
   "metadata": {},
   "outputs": [],
   "source": [
    "result_topic_timeStamps = pd.DataFrame()\n",
    "\n",
    "level = {\n",
    "  \"1\":[\"englisch_leicht\",\"deutsch_leicht\",\"englisch_schwer\",\"deutsch_schwer\"],\n",
    "  \"2\":[\"deutsch_leicht\",\"englisch_schwer\",\"deutsch_schwer\",\"englisch_leicht\"],\n",
    "  \"3\":[\"englisch_schwer\",\"deutsch_schwer\",\"englisch_leicht\",\"deutsch_leicht\"],\n",
    "  \"4\":[\"deutsch_schwer\",\"englisch_leicht\",\"deutsch_leicht\",\"englisch_schwer\"]\n",
    "}\n",
    "\n",
    "topic = {\n",
    "  \"1\":[\"A\",\"B\",\"C\",\"D\"],\n",
    "  \"2\":[\"B\",\"C\",\"D\",\"A\"],\n",
    "  \"3\":[\"C\",\"D\",\"A\",\"B\"],\n",
    "  \"4\":[\"D\",\"A\",\"B\",\"C\"]\n",
    "}\n",
    "\n",
    "def get_topic(topic_now, order_list):\n",
    "    result_list = {}\n",
    "    for index, topic in enumerate(topic_now):\n",
    "        result_list[topic] = order_list[index]\n",
    "    return result_list\n",
    "\n",
    "def get_condition(level_now, order_list):\n",
    "    result_list = {}\n",
    "    for index, condition in enumerate(level_now):\n",
    "        result_list[condition] = order_list[index]\n",
    "    return result_list\n",
    "\n",
    "for index, row in raw_data.iterrows():\n",
    "    id = row['id']\n",
    "    timestamp = row['time_stamp']\n",
    "    topic_number = row['topicnumber']\n",
    "    condition = row['conditionnumber']\n",
    "\n",
    "    level_now = level[str(condition)]\n",
    "    topic_now = topic[str(topic_number)]\n",
    "\n",
    "\n",
    "    timestamp_dict = pd.read_json(timestamp, typ='series')\n",
    "\n",
    "    one = timestamp_dict['one']\n",
    "    two = timestamp_dict['two']\n",
    "    three = timestamp_dict['three']\n",
    "    four = timestamp_dict['four']\n",
    "    order_list = [one,two,three,four]\n",
    "    topic_list = get_topic(topic_now, order_list)\n",
    "    condition_list = get_condition(level_now,order_list)\n",
    "\n",
    "\n",
    "\n",
    "    df = pd.DataFrame({'participant_id': [id], 'text_one':[one],'text_two':[two], 'text_three':[three], 'text_four':[four], \"A\":[topic_list[\"A\"]],\"B\":[topic_list[\"B\"]],\"C\":[topic_list[\"C\"]],\"D\":[topic_list[\"D\"]],\"englisch_leicht\":[condition_list[\"englisch_leicht\"]],\"deutsch_leicht\":[condition_list[\"deutsch_leicht\"]],\"englisch_schwer\":[condition_list[\"englisch_schwer\"]],\"deutsch_schwer\":[condition_list[\"deutsch_schwer\"]]})\n",
    "\n",
    "    result_topic_timeStamps = pd.concat([result_topic_timeStamps, df], ignore_index=True)\n",
    "\n",
    "result_topic_timeStamps.to_csv('Data/topic_timestamps.csv', index=False)"
   ]
  },
  {
   "cell_type": "markdown",
   "metadata": {},
   "source": [
    "### Pre_Topic"
   ]
  },
  {
   "cell_type": "code",
   "execution_count": 7,
   "metadata": {},
   "outputs": [],
   "source": [
    "def get_key(topic, list):\n",
    "    index_of_b = list.index(topic)\n",
    "    if index_of_b == 0:\n",
    "        return \"pre_one\"\n",
    "    elif index_of_b == 1:\n",
    "        return \"pre_two\"\n",
    "    elif index_of_b == 2:\n",
    "        return \"pre_three\"\n",
    "    elif index_of_b == 3:\n",
    "        return \"pre_four\"\n",
    "\n",
    "\n",
    "def get_Topic_Pre(topic):\n",
    "    df_result = pd.DataFrame()\n",
    "    for index, row in raw_data.iterrows():\n",
    "        data = row['condition']\n",
    "        id = row['id']\n",
    "        df = pd.read_json(data, typ='series')\n",
    "        topic_list = df['topic']\n",
    "        key = get_key(topic, topic_list)\n",
    "        data = row[key]\n",
    "        df_json = pd.read_json(data, typ='series')\n",
    "        extracted_info = {}\n",
    "        extracted_info['id'] = [id]\n",
    "        for key, value in df_json.items():\n",
    "            extracted_info[value['question']] = value['answer']\n",
    "        dataframe = pd.DataFrame(extracted_info)\n",
    "        df_result = pd.concat([df_result, dataframe], ignore_index=True)\n",
    "\n",
    "    df_result.to_csv(f\"Data/pre_{topic}.csv\",index = False)\n",
    "\n",
    "ls = ['A','B','C','D']\n",
    "\n",
    "for i in ls:\n",
    "    get_Topic_Pre(i)"
   ]
  },
  {
   "cell_type": "markdown",
   "metadata": {},
   "source": []
  },
  {
   "cell_type": "markdown",
   "metadata": {},
   "source": [
    "### POST - Topic"
   ]
  },
  {
   "cell_type": "code",
   "execution_count": 8,
   "metadata": {},
   "outputs": [],
   "source": [
    "def get_condition(topic, list, condition_list):\n",
    "    index_of_b = list.index(topic)\n",
    "    return condition_list[index_of_b]\n",
    "    \n",
    "def get_key_post(topic, list):\n",
    "    index_of_b = list.index(topic)\n",
    "    if index_of_b == 0:\n",
    "        return \"post_one\"\n",
    "    elif index_of_b == 1:\n",
    "        return \"post_two\"\n",
    "    elif index_of_b == 2:\n",
    "        return \"post_three\"\n",
    "    elif index_of_b == 3:\n",
    "        return \"post_four\"\n",
    "    \n",
    "level = {\n",
    "  \"1\":[\"englisch_leicht\",\"deutsch_leicht\",\"englisch_schwer\",\"deutsch_schwer\"],\n",
    "  \"2\":[\"deutsch_leicht\",\"englisch_schwer\",\"deutsch_schwer\",\"englisch_leicht\"],\n",
    "  \"3\":[\"englisch_schwer\",\"deutsch_schwer\",\"englisch_leicht\",\"deutsch_leicht\"],\n",
    "  \"4\":[\"deutsch_schwer\",\"englisch_leicht\",\"deutsch_leicht\",\"englisch_schwer\"]\n",
    "}\n",
    "\n",
    "\n",
    "\n",
    "def get_Topic_Post(topic):\n",
    "    df_result = pd.DataFrame()\n",
    "    for index, row in raw_data.iterrows():\n",
    "        data = row['condition']\n",
    "        id = row['id']\n",
    "        df = pd.read_json(data, typ='series')\n",
    "        topic_list = df['topic']\n",
    "        condition_list = df['condition']\n",
    "        key = get_key_post(topic, topic_list)\n",
    "        condition = get_condition(topic, topic_list, condition_list)\n",
    "        data = row[key]\n",
    "        df_json = pd.read_json(data, typ='series')\n",
    "        extracted_info = {}\n",
    "        extracted_info['id'] = [id]\n",
    "        for key, value in df_json.items():\n",
    "            extracted_info[value['question']] = value['answer']\n",
    "        extracted_info[\"soloCondition\"] = condition\n",
    "        dataframe = pd.DataFrame(extracted_info)\n",
    "        df_result = pd.concat([df_result, dataframe], ignore_index=True)\n",
    "\n",
    "    df_result.to_csv(f\"Data/post_{topic}.csv\",index = False)\n",
    "\n",
    "ls = ['A','B','C','D']\n",
    "\n",
    "for i in ls:\n",
    "    get_Topic_Post(i)\n"
   ]
  }
 ],
 "metadata": {
  "kernelspec": {
   "display_name": "Python 3 (ipykernel)",
   "language": "python",
   "name": "python3"
  },
  "language_info": {
   "codemirror_mode": {
    "name": "ipython",
    "version": 3
   },
   "file_extension": ".py",
   "mimetype": "text/x-python",
   "name": "python",
   "nbconvert_exporter": "python",
   "pygments_lexer": "ipython3",
   "version": "3.9.12"
  }
 },
 "nbformat": 4,
 "nbformat_minor": 1
}
