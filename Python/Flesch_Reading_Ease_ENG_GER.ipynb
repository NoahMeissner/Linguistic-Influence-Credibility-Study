{
 "cells": [
  {
   "cell_type": "markdown",
   "id": "fe761633",
   "metadata": {},
   "source": [
    "Short script to calculate the Flesch Reading Ease if you know the words, syllable and sentence count of your sample text (from e.g online text counters. Can be found everywhere both for english and german text)"
   ]
  },
  {
   "cell_type": "markdown",
   "id": "3db9f625",
   "metadata": {},
   "source": [
    "Flesch Reading Ease for English text"
   ]
  },
  {
   "cell_type": "code",
   "execution_count": 1,
   "id": "230524fb",
   "metadata": {},
   "outputs": [],
   "source": [
    "# Put in the results of the text analysis (e.g textcounter). Default value = 1.\n",
    "\n",
    "eng_sentences = 40\n",
    "eng_words = 1157\n",
    "eng_syllables = 2462"
   ]
  },
  {
   "cell_type": "code",
   "execution_count": 2,
   "id": "02fdbbc4",
   "metadata": {},
   "outputs": [],
   "source": [
    "FRE_ENG = (206.835 - (1.015 * (eng_words / eng_sentences)) - (84.6 * (eng_syllables / eng_words)))"
   ]
  },
  {
   "cell_type": "code",
   "execution_count": 3,
   "id": "047dbd53",
   "metadata": {},
   "outputs": [
    {
     "data": {
      "text/plain": [
       "-2.5456554667242415"
      ]
     },
     "execution_count": 3,
     "metadata": {},
     "output_type": "execute_result"
    }
   ],
   "source": [
    "FRE_ENG"
   ]
  },
  {
   "cell_type": "code",
   "execution_count": 12,
   "id": "b1f9280f",
   "metadata": {},
   "outputs": [
    {
     "name": "stdout",
     "output_type": "stream",
     "text": [
      "the rounded FRE for your english sample text is 46\n"
     ]
    }
   ],
   "source": [
    "rounded_FRE_ENG = round(FRE_ENG)\n",
    "print(\"the rounded FRE for your english sample text is\", rounded_FRE_ENG)"
   ]
  },
  {
   "cell_type": "markdown",
   "id": "e00f4e60",
   "metadata": {},
   "source": [
    "Flesch Reading Ease for German text"
   ]
  },
  {
   "cell_type": "code",
   "execution_count": 87,
   "id": "6a5bbd0e",
   "metadata": {},
   "outputs": [],
   "source": [
    "ger_sentences = 28\n",
    "ger_words = 522\n",
    "ger_syllables = 998"
   ]
  },
  {
   "cell_type": "code",
   "execution_count": 88,
   "id": "6fd023a6",
   "metadata": {},
   "outputs": [],
   "source": [
    "FRE_GER = 180 - (ger_words / ger_sentences) - (58.5 * (ger_syllables / ger_words))"
   ]
  },
  {
   "cell_type": "code",
   "execution_count": 89,
   "id": "2b134de1",
   "metadata": {},
   "outputs": [
    {
     "data": {
      "text/plain": [
       "49.51231527093597"
      ]
     },
     "execution_count": 89,
     "metadata": {},
     "output_type": "execute_result"
    }
   ],
   "source": [
    "FRE_GER"
   ]
  },
  {
   "cell_type": "code",
   "execution_count": 68,
   "id": "8aaf7a12",
   "metadata": {},
   "outputs": [
    {
     "name": "stdout",
     "output_type": "stream",
     "text": [
      "the rounded FRE for your german sample text is 52\n"
     ]
    }
   ],
   "source": [
    "rounded_FRE_GER = round(FRE_GER)\n",
    "print(\"the rounded FRE for your german sample text is\", rounded_FRE_GER)"
   ]
  },
  {
   "cell_type": "markdown",
   "id": "995618fe",
   "metadata": {},
   "source": [
    "\n",
    "| Flesch-Reading-Ease-Score | Lesbarkeit       | Verständlich für               |\n",
    "|---------------------------|------------------|------------------------------- |\n",
    "| 0–30                      | Sehr schwer      |  Akademiker                    |\n",
    "| 30–50                     | Schwer           |                                |\n",
    "| 50–60                     | Mittelschwer     |                                |\n",
    "| 60–70                     | Mittel           |  13–15-jährige Schüler         |\n",
    "| 70–80                     | Mittelleicht     |                                |\n",
    "| 80–90                     | Leicht           |                                |\n",
    "| 90–100                    | Sehr leicht      |  11-jährige Schüler            |\n",
    "\n",
    "Text Counter ENG: https://wordcount.com/\n",
    "Text Counter GER: https://wordcount.com/de/syllable-counter"
   ]
  },
  {
   "cell_type": "code",
   "execution_count": null,
   "id": "1c0bf3f8",
   "metadata": {},
   "outputs": [],
   "source": [
    "# Kontrolle der Ergebisse:\n",
    "# GER: https://www.fleschindex.de/berechnen/\n",
    "# GER: Beispiele: https://www.fleschindex.de/beispiele/\n",
    "\n",
    "# ENG: https://readabilityformulas.com/readability-scoring-system.php\n",
    "# ENG: Beispiele: https://readabilityformulas.com/flesch-reading-ease-results.php\n"
   ]
  }
 ],
 "metadata": {
  "kernelspec": {
   "display_name": "Python 3 (ipykernel)",
   "language": "python",
   "name": "python3"
  },
  "language_info": {
   "codemirror_mode": {
    "name": "ipython",
    "version": 3
   },
   "file_extension": ".py",
   "mimetype": "text/x-python",
   "name": "python",
   "nbconvert_exporter": "python",
   "pygments_lexer": "ipython3",
   "version": "3.11.5"
  }
 },
 "nbformat": 4,
 "nbformat_minor": 5
}
